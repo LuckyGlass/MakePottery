{
  "cells": [
    {
      "cell_type": "code",
      "execution_count": null,
      "metadata": {
        "id": "ueUINstkehDe"
      },
      "outputs": [],
      "source": [
        "from google.colab import drive\n",
        "drive.mount('/content/drive')"
      ]
    },
    {
      "cell_type": "code",
      "execution_count": null,
      "metadata": {
        "id": "R1voD5cZehDi"
      },
      "outputs": [],
      "source": [
        "!tar -xvf \"/content/drive/MyDrive/dataset.tar\" -C \"/content\""
      ]
    },
    {
      "cell_type": "code",
      "execution_count": null,
      "metadata": {
        "id": "DxlLVU6JehDi"
      },
      "outputs": [],
      "source": [
        "gpu_info = !nvidia-smi\n",
        "gpu_info = '\\n'.join(gpu_info)\n",
        "if gpu_info.find('failed') >= 0:\n",
        "    print('Not connected to a GPU')\n",
        "else:\n",
        "    print(gpu_info)"
      ]
    },
    {
      "cell_type": "code",
      "execution_count": null,
      "metadata": {
        "id": "F6HRvaxuf6v_"
      },
      "outputs": [],
      "source": [
        "!rm -r MakePottery\n",
        "!git clone https://github.com/LuckyGlass/MakePottery"
      ]
    },
    {
      "cell_type": "code",
      "execution_count": null,
      "metadata": {
        "id": "tmxCY1ENkGvK"
      },
      "outputs": [],
      "source": [
        "!pip install numpy torch rich click matplotlib"
      ]
    },
    {
      "cell_type": "code",
      "execution_count": null,
      "metadata": {
        "id": "DWBG4irqUw99"
      },
      "outputs": [],
      "source": [
        "!mkdir drive/MyDrive/models\n",
        "!mkdir drive/MyDrive/lossPics"
      ]
    },
    {
      "cell_type": "code",
      "execution_count": null,
      "metadata": {
        "id": "HV-R3hqwj9dN"
      },
      "outputs": [],
      "source": [
        "!python MakePottery/training.py \\\n",
        "    --train_vox_path data/train \\\n",
        "    --test_vox_path data/test \\\n",
        "    --epochs 10 \\\n",
        "    --batch_size 16 \\\n",
        "    --hidden_dim 32 \\\n",
        "    --load_path \"/content/drive/MyDrive/models (1)/GAN323-240118082518.pt\""
      ]
    },
    {
      "cell_type": "code",
      "execution_count": null,
      "metadata": {},
      "outputs": [],
      "source": [
        "!python MakePottery/training.py --train_vox_path data/train --test_vox_path data/test --epochs 10 --batch_size 8 --hidden_dim 32"
      ]
    }
  ],
  "metadata": {
    "accelerator": "GPU",
    "colab": {
      "gpuType": "T4",
      "provenance": [],
      "toc_visible": true
    },
    "kernelspec": {
      "display_name": "Python 3",
      "name": "python3"
    },
    "language_info": {
      "codemirror_mode": {
        "name": "ipython",
        "version": 3
      },
      "file_extension": ".py",
      "mimetype": "text/x-python",
      "name": "python",
      "nbconvert_exporter": "python",
      "pygments_lexer": "ipython3",
      "version": "3.11.4"
    }
  },
  "nbformat": 4,
  "nbformat_minor": 0
}
